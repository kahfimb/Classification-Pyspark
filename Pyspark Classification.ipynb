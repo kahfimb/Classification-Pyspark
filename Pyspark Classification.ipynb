{
 "cells": [
  {
   "cell_type": "code",
   "execution_count": 1,
   "metadata": {},
   "outputs": [],
   "source": [
    "from pyspark.sql import SparkSession"
   ]
  },
  {
   "cell_type": "code",
   "execution_count": 2,
   "metadata": {},
   "outputs": [],
   "source": [
    "spark = SparkSession.builder.getOrCreate()"
   ]
  },
  {
   "cell_type": "code",
   "execution_count": 17,
   "metadata": {},
   "outputs": [],
   "source": [
    "df_food = spark.read.csv('gender_name.csv', inferSchema=True, header=True)"
   ]
  },
  {
   "cell_type": "code",
   "execution_count": 18,
   "metadata": {},
   "outputs": [
    {
     "data": {
      "text/html": [
       "<div>\n",
       "<style scoped>\n",
       "    .dataframe tbody tr th:only-of-type {\n",
       "        vertical-align: middle;\n",
       "    }\n",
       "\n",
       "    .dataframe tbody tr th {\n",
       "        vertical-align: top;\n",
       "    }\n",
       "\n",
       "    .dataframe thead th {\n",
       "        text-align: right;\n",
       "    }\n",
       "</style>\n",
       "<table border=\"1\" class=\"dataframe\">\n",
       "  <thead>\n",
       "    <tr style=\"text-align: right;\">\n",
       "      <th></th>\n",
       "      <th>0</th>\n",
       "      <th>1</th>\n",
       "      <th>2</th>\n",
       "      <th>3</th>\n",
       "      <th>4</th>\n",
       "    </tr>\n",
       "  </thead>\n",
       "  <tbody>\n",
       "    <tr>\n",
       "      <th>Name</th>\n",
       "      <td>James</td>\n",
       "      <td>John</td>\n",
       "      <td>Robert</td>\n",
       "      <td>Michael</td>\n",
       "      <td>William</td>\n",
       "    </tr>\n",
       "    <tr>\n",
       "      <th>Gender</th>\n",
       "      <td>M</td>\n",
       "      <td>M</td>\n",
       "      <td>M</td>\n",
       "      <td>M</td>\n",
       "      <td>M</td>\n",
       "    </tr>\n",
       "    <tr>\n",
       "      <th>Count</th>\n",
       "      <td>5304407</td>\n",
       "      <td>5260831</td>\n",
       "      <td>4970386</td>\n",
       "      <td>4579950</td>\n",
       "      <td>4226608</td>\n",
       "    </tr>\n",
       "    <tr>\n",
       "      <th>Probability</th>\n",
       "      <td>0.0145168</td>\n",
       "      <td>0.0143975</td>\n",
       "      <td>0.0136027</td>\n",
       "      <td>0.0125341</td>\n",
       "      <td>0.0115671</td>\n",
       "    </tr>\n",
       "  </tbody>\n",
       "</table>\n",
       "</div>"
      ],
      "text/plain": [
       "                     0          1          2          3          4\n",
       "Name             James       John     Robert    Michael    William\n",
       "Gender               M          M          M          M          M\n",
       "Count          5304407    5260831    4970386    4579950    4226608\n",
       "Probability  0.0145168  0.0143975  0.0136027  0.0125341  0.0115671"
      ]
     },
     "execution_count": 18,
     "metadata": {},
     "output_type": "execute_result"
    }
   ],
   "source": [
    "import pandas as pd\n",
    "pd.DataFrame(df.take(5), columns=df.columns).transpose()"
   ]
  },
  {
   "cell_type": "code",
   "execution_count": 19,
   "metadata": {},
   "outputs": [
    {
     "name": "stdout",
     "output_type": "stream",
     "text": [
      "root\n",
      " |-- Name: string (nullable = true)\n",
      " |-- Gender: string (nullable = true)\n",
      " |-- Count: integer (nullable = true)\n",
      " |-- Probability: double (nullable = true)\n",
      "\n"
     ]
    }
   ],
   "source": [
    "df.printSchema()"
   ]
  },
  {
   "cell_type": "code",
   "execution_count": 20,
   "metadata": {},
   "outputs": [
    {
     "data": {
      "text/plain": [
       "[Row(Name='James', Gender='M', Count=5304407, Probability=0.014516787),\n",
       " Row(Name='John', Gender='M', Count=5260831, Probability=0.01439753),\n",
       " Row(Name='Robert', Gender='M', Count=4970386, Probability=0.013602658),\n",
       " Row(Name='Michael', Gender='M', Count=4579950, Probability=0.012534136),\n",
       " Row(Name='William', Gender='M', Count=4226608, Probability=0.01156713),\n",
       " Row(Name='Mary', Gender='F', Count=4169663, Probability=0.011411287),\n",
       " Row(Name='David', Gender='M', Count=3787547, Probability=0.010365534),\n",
       " Row(Name='Joseph', Gender='M', Count=2695970, Probability=0.007378171),\n",
       " Row(Name='Richard', Gender='M', Count=2638187, Probability=0.007220034),\n",
       " Row(Name='Charles', Gender='M', Count=2433540, Probability=0.006659968)]"
      ]
     },
     "execution_count": 20,
     "metadata": {},
     "output_type": "execute_result"
    }
   ],
   "source": [
    "df.head(10)"
   ]
  },
  {
   "cell_type": "code",
   "execution_count": 21,
   "metadata": {},
   "outputs": [
    {
     "name": "stdout",
     "output_type": "stream",
     "text": [
      "+-------+------+------+------------------+--------------------+\n",
      "|summary|  Name|Gender|             Count|         Probability|\n",
      "+-------+------+------+------------------+--------------------+\n",
      "|  count|147269|147269|            147269|              147269|\n",
      "|   mean|   NaN|  null|2481.1613442068597|6.790295323639719E-6|\n",
      "| stddev|   NaN|  null| 46454.71797453446|1.271345193803369...|\n",
      "|    min|     A|     F|                 1|          2.73674E-9|\n",
      "|    max| Zzyzx|     M|           5304407|         0.014516787|\n",
      "+-------+------+------+------------------+--------------------+\n",
      "\n"
     ]
    }
   ],
   "source": [
    "df.describe().show()"
   ]
  },
  {
   "cell_type": "code",
   "execution_count": 22,
   "metadata": {},
   "outputs": [],
   "source": [
    "from pyspark.ml.linalg import Vector\n",
    "from pyspark.ml.feature import VectorAssembler"
   ]
  },
  {
   "cell_type": "code",
   "execution_count": 26,
   "metadata": {},
   "outputs": [
    {
     "name": "stdout",
     "output_type": "stream",
     "text": [
      "+-----------+------+-------+-----------+--------------------+\n",
      "|       Name|Gender|  Count|Probability|            features|\n",
      "+-----------+------+-------+-----------+--------------------+\n",
      "|      James|     M|5304407|0.014516787|[5304407.0,0.0145...|\n",
      "|       John|     M|5260831| 0.01439753|[5260831.0,0.0143...|\n",
      "|     Robert|     M|4970386|0.013602658|[4970386.0,0.0136...|\n",
      "|    Michael|     M|4579950|0.012534136|[4579950.0,0.0125...|\n",
      "|    William|     M|4226608| 0.01156713|[4226608.0,0.0115...|\n",
      "|       Mary|     F|4169663|0.011411287|[4169663.0,0.0114...|\n",
      "|      David|     M|3787547|0.010365534|[3787547.0,0.0103...|\n",
      "|     Joseph|     M|2695970|0.007378171|[2695970.0,0.0073...|\n",
      "|    Richard|     M|2638187|0.007220034|[2638187.0,0.0072...|\n",
      "|    Charles|     M|2433540|0.006659968|[2433540.0,0.0066...|\n",
      "|     Thomas|     M|2381034|0.006516273|[2381034.0,0.0065...|\n",
      "|Christopher|     M|2196198|0.006010425|[2196198.0,0.0060...|\n",
      "|     Daniel|     M|2039641|0.005581969|[2039641.0,0.0055...|\n",
      "|    Matthew|     M|1738699|0.004758368|[1738699.0,0.0047...|\n",
      "|  Elizabeth|     F|1704140|0.004663789|[1704140.0,0.0046...|\n",
      "|   Patricia|     F|1608260|0.004401391|[1608260.0,0.0044...|\n",
      "|   Jennifer|     F|1584426|0.004336163|[1584426.0,0.0043...|\n",
      "|    Anthony|     M|1506437|0.004122727|[1506437.0,0.0041...|\n",
      "|     George|     M|1495736|0.004093442|[1495736.0,0.0040...|\n",
      "|      Linda|     F|1480592|0.004051996|[1480592.0,0.0040...|\n",
      "+-----------+------+-------+-----------+--------------------+\n",
      "only showing top 20 rows\n",
      "\n"
     ]
    }
   ],
   "source": [
    "assembler_data = VectorAssembler(inputCols = ['Count', 'Probability'],outputCol=\"features\")\n",
    "output = assembler_data.transform(df_food)\n",
    "output.show()"
   ]
  },
  {
   "cell_type": "code",
   "execution_count": 27,
   "metadata": {},
   "outputs": [],
   "source": [
    "from pyspark.ml.classification import RandomForestClassifier,DecisionTreeClassifier\n",
    "\n",
    "rfc = DecisionTreeClassifier(labelCol='Spoiled',featuresCol='features')"
   ]
  },
  {
   "cell_type": "code",
   "execution_count": 40,
   "metadata": {},
   "outputs": [],
   "source": [
    "train, test = output.randomSplit([0.8, 0.2], seed=17)"
   ]
  },
  {
   "cell_type": "code",
   "execution_count": 43,
   "metadata": {},
   "outputs": [
    {
     "name": "stdout",
     "output_type": "stream",
     "text": [
      "Size of training data : 117662\n",
      "Size of testing data : 29607\n"
     ]
    }
   ],
   "source": [
    "print('Size of training data :',train.count())\n",
    "print('Size of testing data :',test.count())"
   ]
  }
 ],
 "metadata": {
  "kernelspec": {
   "display_name": "Python 3",
   "language": "python",
   "name": "python3"
  },
  "language_info": {
   "codemirror_mode": {
    "name": "ipython",
    "version": 3
   },
   "file_extension": ".py",
   "mimetype": "text/x-python",
   "name": "python",
   "nbconvert_exporter": "python",
   "pygments_lexer": "ipython3",
   "version": "3.8.2"
  }
 },
 "nbformat": 4,
 "nbformat_minor": 4
}
